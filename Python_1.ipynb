{
 "cells": [
  {
   "cell_type": "markdown",
   "metadata": {},
   "source": [
    "## Python Basics 1"
   ]
  },
  {
   "cell_type": "markdown",
   "metadata": {},
   "source": [
    "### 1. In the below elements which of them are values or an expression? eg:- values can be integer or string and expressions will be mathematical operators.\n",
    "- * \n",
    "- 'hello'\n",
    "- -87.8\n",
    "- - \n",
    "- / \n",
    "- +\n",
    "- 6 \n"
   ]
  },
  {
   "cell_type": "markdown",
   "metadata": {},
   "source": [
    "### Answer : \n",
    "#### Operators are:\n",
    "     #### *,-,/,+\n",
    "#### Values are:\n",
    "     #### 'hello', -87.8, 6\n",
    "   "
   ]
  },
  {
   "cell_type": "markdown",
   "metadata": {},
   "source": [
    "### 2. What is the difference between string and variable?"
   ]
  },
  {
   "cell_type": "markdown",
   "metadata": {},
   "source": [
    "#### Answer : \n",
    "|Sl. No|\t|String|\t|Variable|\n",
    "|:-| |:-|\t|:-|\n",
    "|1|\t|Strings are arrays of bytes representing Unicode characters|\t|A variable is a name given to a memory location. It is the basic unit of storage in a program|\n",
    "|2|\t|It’s a value representing text|\t|It is a name that can refer to any value|\n",
    "|3|\t|Strings in Python can be created using single quotes or double quotes or even triple quotes.<br> Ex: var= “Welcome”.<br>Here “Welcome” is a string| |A variable is created the moment we first assign a value to it.<br>Ex: var= “Welcome”.<br>Here var is variable|\n",
    "|4|\t|Strings are immutable; hence elements of a String cannot be changed once it has been assigned. <br>Only new strings can be reassigned to the same name| |We can re-declare the python variable once we have declared the variable already. <br>Var=12  <br>Var=35 <br> We can use same name for different type.     <br>Ex: Var=”hi”   <br>Var=14.4 |"
   ]
  },
  {
   "cell_type": "markdown",
   "metadata": {},
   "source": [
    "### 3. Describe three different data types."
   ]
  },
  {
   "cell_type": "markdown",
   "metadata": {},
   "source": [
    "#### Answer: \n",
    "Data types are the classification or categorization of data items. It represents the kind of value that tells what operations can be performed on a particular data. Since everything is an object in Python programming, data types are actually classes and variables are instance (object) of these classes.\n",
    "\n",
    "Following are the standard or built-in data type of Python:\n",
    "    •\tNumeric\n",
    "        o\tInteger\n",
    "        o\tFloat\n",
    "        o\tComplex number\n",
    "    •\tSequence Type\n",
    "        o\tString\n",
    "        o\tList\n",
    "        o\ttuple\n",
    "    •\tBoolean\n",
    "    •\tSet\n",
    "    •\tDictionary\n",
    "\n",
    "**Numeric:**\n",
    "\n",
    " In Python, numeric data type represents the data which has numeric value. Numeric value can be integer, floating number or even complex numbers. These values are defined as int, float and complex class in Python.\n",
    "\n",
    "    •\tIntegers – This value is represented by int class. It contains positive or negative whole numbers (without fraction or decimal). In Python there is no limit to how long an integer value can be.\n",
    "    •\tFloat – This value is represented by float class. It is a real number with floating point representation. It is specified by a decimal point. Optionally, the character e or E followed by a positive or negative integer may be appended to specify scientific notation.\n",
    "    •\tComplex Numbers – Complex number is represented by complex class. It is specified as (real part) + (imaginary part) j. For example – 2+3j\n",
    "\n",
    "**Sequence Type:**\n",
    "\n",
    " In Python, sequence is the ordered collection of similar or different data types. Sequences allows to store multiple values in an organized and efficient fashion. There are several sequence types in Python:\n",
    "    \n",
    "     •\tString:\n",
    "        o\tIn Python, Strings are arrays of bytes representing Unicode characters. A string is a collection of one or more characters put in a single quote, double-quote or triple quote. In python there is no character data type, a character is a string of length one. It is represented by str class.\n",
    "        o\tStrings in Python can be created using single quotes or double quotes or even triple quotes\n",
    "\n",
    "     •\tList: \n",
    "        o\tLists are just like the arrays, declared in other languages which is a ordered collection of data. It is very flexible as the items in a list do not need to be of the same type.\n",
    "        o\tLists in Python can be created by just placing the sequence inside the square brackets [].\n",
    "        \n",
    "     •\tTuple:\n",
    "        o\tTuple is also an ordered collection of Python objects. The only difference between tuple and list is that tuples are immutable i.e., tuples cannot be modified after it is created. It is represented by tuple class.\n",
    "        o\tIn Python, tuples are created by placing a sequence of values separated by ‘comma’ with or without the use of parentheses for grouping of the data sequence. Tuples can contain any number of elements and of any datatype (like strings, integers, list, etc.).\n",
    "\n",
    "**Boolean:**\n",
    "\n",
    "    •\tData type with one of the two built-in values, True or False. Boolean objects that are equal to True are truthy (true), and those equal to False are falsy (false). But non-Boolean objects can be evaluated in Boolean context as well and determined to be true or false. It is denoted by the class bool.\n",
    "    •\tTrue and False with capital ‘T’ and ‘F’ are valid Booleans otherwise python will throw an error.\n",
    "    \n",
    "**Set:**\n",
    "\n",
    "    •\tSet is an unordered collection of data type that is iterable, mutable and has no duplicate elements. The order of elements in a set is undefined though it may consist of various elements.\n",
    "    •\tSets can be created by using the built-in set() function with an iterable object or a sequence by placing the sequence inside curly braces, separated by ‘comma’. Type of elements in a set need not be the same, various mixed-up data type values can also be passed to the set.\n",
    "    \n",
    "**Dictionary:**\n",
    "\n",
    "    •\tDictionary in Python is an unordered collection of data values, used to store data values like a map, which unlike other Data Types that hold only single value as an element, Dictionary holds key:value pair. Key-value is provided in the dictionary to make it more optimized. Each key-value pair in a Dictionary is separated by a colon: whereas each key is separated by a ‘comma’.\n",
    "    •\tDictionary can be created by placing a sequence of elements within curly {} braces, separated by ‘comma’. Values in a dictionary can be of any datatype and can be duplicated, whereas keys can’t be repeated and must be immutable. Dictionary can also be created by the built-in function dict(). An empty dictionary can be created by just placing it to curly braces {}.\n",
    "    •\tDictionary keys are case sensitive, same name but different cases of Key will be treated distinctly.\n",
    "\n"
   ]
  },
  {
   "cell_type": "code",
   "execution_count": 2,
   "metadata": {},
   "outputs": [
    {
     "data": {
      "text/plain": [
       "int"
      ]
     },
     "execution_count": 2,
     "metadata": {},
     "output_type": "execute_result"
    }
   ],
   "source": [
    "a = 10\n",
    "type(a)"
   ]
  },
  {
   "cell_type": "code",
   "execution_count": 3,
   "metadata": {},
   "outputs": [
    {
     "data": {
      "text/plain": [
       "float"
      ]
     },
     "execution_count": 3,
     "metadata": {},
     "output_type": "execute_result"
    }
   ],
   "source": [
    "b = 10.5\n",
    "type(b)"
   ]
  },
  {
   "cell_type": "code",
   "execution_count": 2,
   "metadata": {},
   "outputs": [
    {
     "data": {
      "text/plain": [
       "str"
      ]
     },
     "execution_count": 2,
     "metadata": {},
     "output_type": "execute_result"
    }
   ],
   "source": [
    "c = 'Gouri'\n",
    "type(c)"
   ]
  },
  {
   "cell_type": "code",
   "execution_count": 3,
   "metadata": {},
   "outputs": [
    {
     "data": {
      "text/plain": [
       "dict"
      ]
     },
     "execution_count": 3,
     "metadata": {},
     "output_type": "execute_result"
    }
   ],
   "source": [
    "d={'a':100,'b':120}\n",
    "type(d)"
   ]
  },
  {
   "cell_type": "code",
   "execution_count": 4,
   "metadata": {},
   "outputs": [
    {
     "data": {
      "text/plain": [
       "bool"
      ]
     },
     "execution_count": 4,
     "metadata": {},
     "output_type": "execute_result"
    }
   ],
   "source": [
    "e=True\n",
    "type(e)"
   ]
  },
  {
   "cell_type": "code",
   "execution_count": 5,
   "metadata": {},
   "outputs": [
    {
     "data": {
      "text/plain": [
       "list"
      ]
     },
     "execution_count": 5,
     "metadata": {},
     "output_type": "execute_result"
    }
   ],
   "source": [
    "f=[1,2,3]\n",
    "type(f)"
   ]
  },
  {
   "cell_type": "code",
   "execution_count": 6,
   "metadata": {},
   "outputs": [
    {
     "data": {
      "text/plain": [
       "tuple"
      ]
     },
     "execution_count": 6,
     "metadata": {},
     "output_type": "execute_result"
    }
   ],
   "source": [
    "g=(1,2,3,4)\n",
    "type(g)"
   ]
  },
  {
   "cell_type": "markdown",
   "metadata": {},
   "source": [
    "### 4. What is an expression made up of? What do all expressions do?"
   ]
  },
  {
   "cell_type": "markdown",
   "metadata": {},
   "source": [
    "#### Answer:\n",
    "    - An Expression is a combination of variables and operators. There expressions perform operation of variable based on \n",
    "    the operators and evaluates the values to a single variable.\n",
    "\n"
   ]
  },
  {
   "cell_type": "code",
   "execution_count": 12,
   "metadata": {},
   "outputs": [
    {
     "name": "stdout",
     "output_type": "stream",
     "text": [
      "c = 10 + 20\n",
      "c = 30\n"
     ]
    }
   ],
   "source": [
    "# variables \n",
    "a = 10\n",
    "b = 20\n",
    "\n",
    "# The expression - sum\n",
    "c = a + b\n",
    "    \n",
    "# Evalues and store the value in C\n",
    "print('c = {} + {}'.format(a,b))\n",
    "print('c =',c)"
   ]
  },
  {
   "cell_type": "markdown",
   "metadata": {},
   "source": [
    "### 5. This assignment statements, like spam = 10. What is the difference between an expression and a statement?"
   ]
  },
  {
   "cell_type": "markdown",
   "metadata": {},
   "source": [
    "#### Answer:\n",
    "    - The assignemnt statemets assign a value to the variable.\n",
    "    - The expressions evalues the value to a variable.\n",
    "    - in spam = 10 , value 10 in assigned to spam, and now spam will have value 10.\n",
    "    - But in expression a = C+B, the value of a depends on the value of C and B.\n",
    "    \n",
    "   |Expression|\t|Statement|\n",
    "|:-| |:-|\n",
    "|An expression evaluates to a value|\t|A statement executes something|\n",
    "|The evaluation of a statement does not change state|\t|The execution of a statement changes state|\n",
    "|Evaluation of an expression always Produces or returns a result value.|\t|Execution of a statement may or may not produces or displays a result value, it only does whatever the statement says.|\n",
    "|Every expression can’t be a statement.|\t|Every statement can be an expression.|\n",
    "    "
   ]
  },
  {
   "cell_type": "markdown",
   "metadata": {},
   "source": [
    "### 6. After running the following code, what does the variable bacon contain?\n",
    " - bacon = 22\n",
    " - bacon + 1\n"
   ]
  },
  {
   "cell_type": "markdown",
   "metadata": {},
   "source": [
    "#### Answer:\n",
    "- becon will still have value 22.\n",
    "\n",
    "- The becon is assigned with 22, but becon + 1 is not reassigned to becon again like, becon= becon + 1. So the value of becon is not changed"
   ]
  },
  {
   "cell_type": "code",
   "execution_count": 7,
   "metadata": {},
   "outputs": [
    {
     "name": "stdout",
     "output_type": "stream",
     "text": [
      "c =  23\n",
      "bacon =  22\n"
     ]
    }
   ],
   "source": [
    "bacon = 22\n",
    "c = bacon + 1\n",
    "print('c = ',c)\n",
    "print('bacon = ',bacon)"
   ]
  },
  {
   "cell_type": "markdown",
   "metadata": {},
   "source": [
    "### 7. What should the values of the following two terms be?\n",
    " - 'spam' + 'spamspam'\n",
    " - 'spam' * 3\n"
   ]
  },
  {
   "cell_type": "markdown",
   "metadata": {},
   "source": [
    "#### Answer: Both outputs 'spamspamspam'`"
   ]
  },
  {
   "cell_type": "code",
   "execution_count": 8,
   "metadata": {},
   "outputs": [
    {
     "data": {
      "text/plain": [
       "'spamspamspam'"
      ]
     },
     "execution_count": 8,
     "metadata": {},
     "output_type": "execute_result"
    }
   ],
   "source": [
    "'spam'+'spamspam'"
   ]
  },
  {
   "cell_type": "code",
   "execution_count": 9,
   "metadata": {},
   "outputs": [
    {
     "data": {
      "text/plain": [
       "'spamspamspam'"
      ]
     },
     "execution_count": 9,
     "metadata": {},
     "output_type": "execute_result"
    }
   ],
   "source": [
    "'spam'*3"
   ]
  },
  {
   "cell_type": "markdown",
   "metadata": {},
   "source": [
    "### 8. Why is eggs a valid variable name while 100 is invalid?\n",
    "#### Answer:\n",
    "\n",
    "    - Variable name can not starts with numbers."
   ]
  },
  {
   "cell_type": "code",
   "execution_count": 10,
   "metadata": {},
   "outputs": [
    {
     "data": {
      "text/plain": [
       "10"
      ]
     },
     "execution_count": 10,
     "metadata": {},
     "output_type": "execute_result"
    }
   ],
   "source": [
    "eggs = 10\n",
    "eggs"
   ]
  },
  {
   "cell_type": "code",
   "execution_count": 24,
   "metadata": {},
   "outputs": [
    {
     "ename": "SyntaxError",
     "evalue": "cannot assign to literal (<ipython-input-24-59ec468e525e>, line 1)",
     "output_type": "error",
     "traceback": [
      "\u001b[1;36m  File \u001b[1;32m\"<ipython-input-24-59ec468e525e>\"\u001b[1;36m, line \u001b[1;32m1\u001b[0m\n\u001b[1;33m    100 = \"hundred\"\u001b[0m\n\u001b[1;37m    ^\u001b[0m\n\u001b[1;31mSyntaxError\u001b[0m\u001b[1;31m:\u001b[0m cannot assign to literal\n"
     ]
    }
   ],
   "source": [
    "100 = \"hundred\"\n",
    "100"
   ]
  },
  {
   "cell_type": "markdown",
   "metadata": {},
   "source": [
    "Rules for a valid variable name is\n",
    "\n",
    "1. A variable name must start with a letter or the underscore character.\n",
    "2. A variable name cannot start with a number.\n",
    "3. A variable name can only contain alpha-numeric characters and underscores (A-z, 0-9, and _).\n",
    "4. Variable names are case-sensitive (name, Name and NAME are three different variables).\n",
    "5. The reserved words(keywords) cannot be used naming the variable.\n"
   ]
  },
  {
   "cell_type": "markdown",
   "metadata": {},
   "source": [
    "### 9. What three functions can be used to get the integer, floating-point number, or string version of a value?\n",
    "#### Answer: The following functions \n",
    "    - int()\n",
    "    - float()\n",
    "    - str()  will convert the values to integer, float or string versions of the values passed to them\n",
    "\n"
   ]
  },
  {
   "cell_type": "code",
   "execution_count": 15,
   "metadata": {},
   "outputs": [
    {
     "name": "stdout",
     "output_type": "stream",
     "text": [
      "a =  10.6\n"
     ]
    }
   ],
   "source": [
    " a = 10.6\n",
    "print('a = ', a)"
   ]
  },
  {
   "cell_type": "code",
   "execution_count": 16,
   "metadata": {},
   "outputs": [
    {
     "data": {
      "text/plain": [
       "10"
      ]
     },
     "execution_count": 16,
     "metadata": {},
     "output_type": "execute_result"
    }
   ],
   "source": [
    "int(a)"
   ]
  },
  {
   "cell_type": "code",
   "execution_count": 17,
   "metadata": {},
   "outputs": [
    {
     "data": {
      "text/plain": [
       "5"
      ]
     },
     "execution_count": 17,
     "metadata": {},
     "output_type": "execute_result"
    }
   ],
   "source": [
    "b = 5\n",
    "b\n"
   ]
  },
  {
   "cell_type": "code",
   "execution_count": 18,
   "metadata": {},
   "outputs": [
    {
     "data": {
      "text/plain": [
       "5.0"
      ]
     },
     "execution_count": 18,
     "metadata": {},
     "output_type": "execute_result"
    }
   ],
   "source": [
    "float(b)"
   ]
  },
  {
   "cell_type": "code",
   "execution_count": 19,
   "metadata": {},
   "outputs": [
    {
     "data": {
      "text/plain": [
       "56"
      ]
     },
     "execution_count": 19,
     "metadata": {},
     "output_type": "execute_result"
    }
   ],
   "source": [
    "c = 56\n",
    "c"
   ]
  },
  {
   "cell_type": "code",
   "execution_count": 20,
   "metadata": {},
   "outputs": [
    {
     "data": {
      "text/plain": [
       "'56'"
      ]
     },
     "execution_count": 20,
     "metadata": {},
     "output_type": "execute_result"
    }
   ],
   "source": [
    "str(c)"
   ]
  },
  {
   "cell_type": "markdown",
   "metadata": {},
   "source": [
    "### 10. Why does this expression cause an error? How can you fix it? 'I have eaten ' + 99 + ' burritos.'\n",
    "#### Answer:\n",
    "    This expression throws an error because integer value is tried to concatenate with string. Only strings can be concatenated to other strings with the + operator.  It could be fixed by converted integer to string either using str or placing integer within quotes.\n"
   ]
  },
  {
   "cell_type": "code",
   "execution_count": 21,
   "metadata": {},
   "outputs": [
    {
     "ename": "TypeError",
     "evalue": "can only concatenate str (not \"int\") to str",
     "output_type": "error",
     "traceback": [
      "\u001b[1;31m---------------------------------------------------------------------------\u001b[0m",
      "\u001b[1;31mTypeError\u001b[0m                                 Traceback (most recent call last)",
      "\u001b[1;32m<ipython-input-21-2ea2cb4275ca>\u001b[0m in \u001b[0;36m<module>\u001b[1;34m\u001b[0m\n\u001b[1;32m----> 1\u001b[1;33m \u001b[1;34m'i have eaten'\u001b[0m \u001b[1;33m+\u001b[0m \u001b[1;36m99\u001b[0m \u001b[1;33m+\u001b[0m \u001b[1;34m'burritos'\u001b[0m\u001b[1;33m\u001b[0m\u001b[1;33m\u001b[0m\u001b[0m\n\u001b[0m",
      "\u001b[1;31mTypeError\u001b[0m: can only concatenate str (not \"int\") to str"
     ]
    }
   ],
   "source": [
    "'i have eaten' + 99 + 'burritos'"
   ]
  },
  {
   "cell_type": "code",
   "execution_count": 22,
   "metadata": {},
   "outputs": [
    {
     "data": {
      "text/plain": [
       "'i have eaten 99 burritos.'"
      ]
     },
     "execution_count": 22,
     "metadata": {},
     "output_type": "execute_result"
    }
   ],
   "source": [
    "'i have eaten ' + str(99) + ' burritos.'"
   ]
  },
  {
   "cell_type": "code",
   "execution_count": 23,
   "metadata": {},
   "outputs": [
    {
     "data": {
      "text/plain": [
       "'I have eaten 99 burritos.'"
      ]
     },
     "execution_count": 23,
     "metadata": {},
     "output_type": "execute_result"
    }
   ],
   "source": [
    "'I have eaten ' +'99' + ' burritos.'"
   ]
  },
  {
   "cell_type": "code",
   "execution_count": null,
   "metadata": {},
   "outputs": [],
   "source": []
  }
 ],
 "metadata": {
  "kernelspec": {
   "display_name": "Python 3",
   "language": "python",
   "name": "python3"
  },
  "language_info": {
   "codemirror_mode": {
    "name": "ipython",
    "version": 3
   },
   "file_extension": ".py",
   "mimetype": "text/x-python",
   "name": "python",
   "nbconvert_exporter": "python",
   "pygments_lexer": "ipython3",
   "version": "3.8.5"
  }
 },
 "nbformat": 4,
 "nbformat_minor": 4
}
